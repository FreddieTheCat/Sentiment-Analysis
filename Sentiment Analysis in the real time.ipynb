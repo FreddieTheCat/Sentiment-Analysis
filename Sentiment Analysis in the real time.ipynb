{
 "cells": [
  {
   "cell_type": "code",
   "execution_count": null,
   "metadata": {},
   "outputs": [],
   "source": [
    "import tweepy\n",
    "from textblob import TextBlob\n",
    "import pandas as pd\n",
    "from plotly import __version__\n",
    "import cufflinks as cf\n",
    "from plotly.offline import download_plotlyjs,init_notebook_mode,plot,iplot\n",
    "init_notebook_mode(connected=True)\n",
    "cf.go_offline()\n",
    "import matplotlib.pyplot as plt\n",
    "from tweepy import Stream,StreamListener\n",
    "import json,re,csv\n"
   ]
  },
  {
   "cell_type": "code",
   "execution_count": null,
   "metadata": {},
   "outputs": [],
   "source": [
    "consumer_key = 'xEMZLfBL4XpKv4Qsk0MPEp7tj'\n",
    "consumer_key_secret = 'JW4OCCd7K3Lzn0yX9IH3Wcefj9XvFHfqhY5SG7DoVgYv1Fp0BZ'\n",
    "\n",
    "access_token = '445449105-cD38nd3sgPsVyZ9y92yyc2jm6cpNaV0lCvo3F75H'\n",
    "access_token_secret = 'hNkq3yP7Qr2OnFZ0WW71qh86mcee6A9C4DHar4MhDbM88'\n",
    "\n",
    "auth = tweepy.OAuthHandler(consumer_key, consumer_key_secret)\n",
    "\n",
    "auth.set_access_token(access_token, access_token_secret)\n",
    "\n",
    "api = tweepy.API(auth)"
   ]
  },
  {
   "cell_type": "code",
   "execution_count": null,
   "metadata": {},
   "outputs": [],
   "source": [
    "pos1, neg1, neu1 = 0, 0, 0\n",
    "header=['Positive','Negative','Neutral']\n",
    "\n",
    "#Create an empty csv file which has three headers: 'Positive','Negative','Neutral'\n",
    "with open('List.csv','w') as file:\n",
    "    write=csv.DictWriter(file,fieldnames=header)\n",
    "    write.writeheader()\n",
    "    \n",
    "#doc for Stream Listener to tweepy: http://docs.tweepy.org/en/latest/streaming_how_to.html\n",
    "class Listener(StreamListener):\n",
    "    \n",
    "    def on_data(self, data):\n",
    "        raw_t=json.loads(data)\n",
    "        \n",
    "        try:\n",
    "            #this assumes that the data in json has a 'text' field, if not it will go to except and print the message \n",
    "            data=raw_t['text']\n",
    "            #four lines below will clear the tweets by removing: metions, has tag etc.\n",
    "            data = re.sub('@[A-Za-z0–9]+', '',data) #Removing @mentions\n",
    "            data = re.sub('#', '', data) # Removing '#' hash tag\n",
    "            data = re.sub('RT[\\s]+', '', data) # Removing RT\n",
    "            data = re.sub('https?:\\/\\/\\S+', '', data) # Removing hyperlink\n",
    "\n",
    "\n",
    "            global pos1 \n",
    "            global neg1 \n",
    "            global neu1\n",
    "            pos, neg, neu = 0, 0, 0\n",
    "\n",
    "\n",
    "            print(data)\n",
    "            analysis = TextBlob(data)\n",
    "            print(analysis.sentiment)\n",
    "            \n",
    "            #the below if statement will count the number of tweets based on their sentiment('Positive','Negative','Neutral')\n",
    "            if analysis.sentiment[0]>0:\n",
    "                pos+=1\n",
    "            elif analysis.sentiment[0]<0:\n",
    "                neg+=1\n",
    "            else:\n",
    "                neu+=1\n",
    "            pos1=pos1+pos\n",
    "            neg1=neg1+neg\n",
    "            neu1=neu1+neu\n",
    "            \n",
    "            #write the result from counting to the csv file \"List.csv\"\n",
    "            with open('List.csv', 'a') as file:\n",
    "                writer = csv.DictWriter(file, fieldnames=header)\n",
    "                info={\n",
    "                    'Positive':pos1,\n",
    "                    'Negative':neg1,\n",
    "                    'Neutral':neu1\n",
    "                      }\n",
    "                writer.writerow(info)\n",
    "\n",
    "            print(data)\n",
    "\n",
    "            return True\n",
    "        except:\n",
    "            print('You did something wrong, take a look at the data')\n",
    "        \n",
    "\n",
    "    def on_error(self, status):\n",
    "        print(status)\n",
    "\n",
    "\n",
    "l = Listener()"
   ]
  },
  {
   "cell_type": "code",
   "execution_count": null,
   "metadata": {},
   "outputs": [],
   "source": [
    "stream = Stream(auth, l)\n",
    "stream.filter(track=['bloomberg'])\n"
   ]
  },
  {
   "cell_type": "code",
   "execution_count": null,
   "metadata": {},
   "outputs": [],
   "source": []
  }
 ],
 "metadata": {
  "kernelspec": {
   "display_name": "Python 3",
   "language": "python",
   "name": "python3"
  },
  "language_info": {
   "codemirror_mode": {
    "name": "ipython",
    "version": 3
   },
   "file_extension": ".py",
   "mimetype": "text/x-python",
   "name": "python",
   "nbconvert_exporter": "python",
   "pygments_lexer": "ipython3",
   "version": "3.7.3"
  }
 },
 "nbformat": 4,
 "nbformat_minor": 2
}
